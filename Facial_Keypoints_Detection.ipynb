{
  "nbformat": 4,
  "nbformat_minor": 0,
  "metadata": {
    "colab": {
      "provenance": [],
      "authorship_tag": "ABX9TyNNQDMh2z5vqcQ9B/SzSzKI",
      "include_colab_link": true
    },
    "kernelspec": {
      "name": "python3",
      "display_name": "Python 3"
    },
    "language_info": {
      "name": "python"
    }
  },
  "cells": [
    {
      "cell_type": "markdown",
      "metadata": {
        "id": "view-in-github",
        "colab_type": "text"
      },
      "source": [
        "<a href=\"https://colab.research.google.com/github/Gholamrezadar/facial_keypoints_detection/blob/main/Facial_Keypoints_Detection.ipynb\" target=\"_parent\"><img src=\"https://colab.research.google.com/assets/colab-badge.svg\" alt=\"Open In Colab\"/></a>"
      ]
    },
    {
      "cell_type": "markdown",
      "source": [
        "## Facial Keypoints Detection\n",
        "By Gholamreza Dar June 2024"
      ],
      "metadata": {
        "id": "n1l5DoLFPkg0"
      }
    },
    {
      "cell_type": "code",
      "source": [
        "!pip install -q timm torchsummary"
      ],
      "metadata": {
        "colab": {
          "base_uri": "https://localhost:8080/"
        },
        "id": "Y-TgjZCRRCH4",
        "outputId": "6c85dd06-3580-46e0-bf87-81677a89b95d"
      },
      "execution_count": 5,
      "outputs": [
        {
          "output_type": "stream",
          "name": "stdout",
          "text": [
            "\u001b[2K     \u001b[90m━━━━━━━━━━━━━━━━━━━━━━━━━━━━━━━━━━━━━━━━\u001b[0m \u001b[32m2.3/2.3 MB\u001b[0m \u001b[31m9.9 MB/s\u001b[0m eta \u001b[36m0:00:00\u001b[0m\n",
            "\u001b[2K     \u001b[90m━━━━━━━━━━━━━━━━━━━━━━━━━━━━━━━━━━━━━━━━\u001b[0m \u001b[32m21.3/21.3 MB\u001b[0m \u001b[31m44.0 MB/s\u001b[0m eta \u001b[36m0:00:00\u001b[0m\n",
            "\u001b[?25h"
          ]
        }
      ]
    },
    {
      "cell_type": "code",
      "source": [
        "import torch\n",
        "from torch.utils.data import Dataset, DataLoader\n",
        "import torchvision.transforms as transforms\n",
        "import torch.nn as nn\n",
        "import torch.nn.functional as F"
      ],
      "metadata": {
        "id": "4QifZ-VdRR66"
      },
      "execution_count": 6,
      "outputs": []
    },
    {
      "cell_type": "markdown",
      "source": [
        "## Download data"
      ],
      "metadata": {
        "id": "fPQwjkABPszM"
      }
    },
    {
      "cell_type": "code",
      "source": [
        "!curl -L https://huggingface.co/datasets/Gholamreza/facial-keypoints/resolve/main/train-test-data.zip --output train-test-data.zip\n",
        "!unzip -n train-test-data.zip -d data\n",
        "!rm train-test-data.zip\n"
      ],
      "metadata": {
        "id": "sJe4f9k6QC13"
      },
      "execution_count": null,
      "outputs": []
    },
    {
      "cell_type": "markdown",
      "source": [
        "## Dataset and DataLoader"
      ],
      "metadata": {
        "id": "mTi2pvrhQ2FL"
      }
    },
    {
      "cell_type": "code",
      "source": [],
      "metadata": {
        "id": "RBiKowscQGRf"
      },
      "execution_count": null,
      "outputs": []
    }
  ]
}